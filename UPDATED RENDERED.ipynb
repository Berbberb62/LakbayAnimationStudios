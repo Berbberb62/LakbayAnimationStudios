{
  "cells": [
    {
      "cell_type": "markdown",
      "metadata": {
        "id": "view-in-github",
        "colab_type": "text"
      },
      "source": [
        "<a href=\"https://colab.research.google.com/github/Berbberb62/LakbayAnimationStudios/blob/main/UPDATED%20RENDERED.ipynb\" target=\"_parent\"><img src=\"https://colab.research.google.com/assets/colab-badge.svg\" alt=\"Open In Colab\"/></a>"
      ]
    },
    {
      "cell_type": "code",
      "execution_count": null,
      "metadata": {
        "id": "8dFNjYGTgNjR"
      },
      "outputs": [],
      "source": [
        "blender_version = '3.5.0' #@param ['2.79b', '2.83.20', '2.93.18', '3.3.21', '3.6.21', '4.2.7', '3.5.0' ] {allow-input: false}\n",
        "blend_file_path = 'path/to/file.blend' #@param {type: 'string'}\n",
        "#@markdown ---\n",
        "upload_type = 'google_drive' #@param ['direct', 'google_drive', 'url', 'gdrive_relative'] {allow-input: false}\n",
        "drive_path = 'lipsblend2.blend' #@param {type: 'string'}\n",
        "url_blend = 'https://drive.google.com/file/d/12IheUlv9aVBRzHH_JvKkJCfr-UE9hca4/view?usp=drive_link' #@param {type: 'string'}\n",
        "#@markdown ---\n",
        "animation = True #@param {type: 'boolean'}\n",
        "start_frame =  1#@param {type: 'integer'}\n",
        "end_frame =  1#@param {type: 'integer'}\n",
        "#@markdown ---\n",
        "download_type = 'google_drive' #@param ['direct', 'google_drive', 'gdrive_direct'] {allow-input: false}\n",
        "output_name = 'blender-##' #@param {type: 'string'}\n",
        "zip_files = False #@param {type: 'boolean'}\n",
        "drive_output_path = 'GOOGLE RENDER' #@param {type: 'string'}\n",
        "#@markdown ---\n",
        "gpu_enabled = True #@param {type:\"boolean\"}\n",
        "optix_enabled = False #@param {type:\"boolean\"}\n",
        "cpu_enabled = False #@param {type:\"boolean\"}"
      ]
    },
    {
      "cell_type": "code",
      "execution_count": null,
      "metadata": {
        "id": "XQ0cynSzSYDd"
      },
      "outputs": [],
      "source": [
        "%cd /content\n",
        "\n",
        "gpu = !nvidia-smi --query-gpu=gpu_name --format=csv,noheader\n",
        "print(\"Current GPU: \" + gpu[0])\n",
        "\n",
        "if gpu[0] == \"Tesla K80\" and optix_enabled:\n",
        "  print(\"OptiX disabled because of unsupported GPU\")\n",
        "  optix_enabled = False"
      ]
    },
    {
      "cell_type": "code",
      "execution_count": null,
      "metadata": {
        "id": "pQboAtzI0Zc8"
      },
      "outputs": [],
      "source": [
        "import os\n",
        "\n",
        "os.environ[\"LD_PRELOAD\"] = \"\"\n",
        "\n",
        "!apt remove libtcmalloc-minimal4\n",
        "!apt install libtcmalloc-minimal4\n",
        "\n",
        "os.environ[\"LD_PRELOAD\"] = \"/usr/lib/x86_64-linux-gnu/libtcmalloc_minimal.so.4.5.9\""
      ]
    },
    {
      "cell_type": "code",
      "execution_count": null,
      "metadata": {
        "id": "QRzNmiHN8Xr0"
      },
      "outputs": [],
      "source": [
        "import shutil\n",
        "from google.colab import files, drive\n",
        "uploaded_filename = \"\"\n",
        "\n",
        "if upload_type == 'google_drive' or upload_type == 'gdrive_relative' or download_type == 'google_drive' or download_type == 'gdrive_direct':\n",
        "    drive.mount('/drive')\n",
        "\n",
        "if upload_type == 'direct':\n",
        "    uploaded = files.upload()\n",
        "    for fn in uploaded.keys():\n",
        "        uploaded_filename = fn\n",
        "elif upload_type == 'url':\n",
        "    !wget -nc $url_blend\n",
        "    uploaded_filename = os.path.basename(url_blend)\n",
        "elif upload_type == 'google_drive':\n",
        "    shutil.copy('/drive/My Drive/' + drive_path, '.')\n",
        "    uploaded_filename = os.path.basename(drive_path)"
      ]
    },
    {
      "cell_type": "code",
      "execution_count": null,
      "metadata": {
        "id": "KowqWtLzgSLw"
      },
      "outputs": [],
      "source": [
        "!rm -r render\n",
        "!mkdir render\n",
        "\n",
        "if upload_type == 'gdrive_relative':\n",
        "    if not drive_path.endswith('/'):\n",
        "        drive_path += '/'\n",
        "    !cp -r '/drive/My Drive/{drive_path}.' 'render/'\n",
        "elif uploaded_filename.lower().endswith('.zip'):\n",
        "    !unzip -o $uploaded_filename -d 'render/'\n",
        "elif uploaded_filename.lower().endswith('.blend'):\n",
        "    shutil.copy(uploaded_filename, 'render/')\n",
        "    blend_file_path = uploaded_filename\n",
        "else:\n",
        "    raise SystemExit(\"Invalid file extension, only .blend and .zip can be uploaded.\")"
      ]
    },
    {
      "cell_type": "code",
      "execution_count": null,
      "metadata": {
        "id": "GPJ9fmoB6PWM"
      },
      "outputs": [],
      "source": [
        "# To add your own new version, go to https://ftp.nluug.nl/pub/graphics/blender/release\n",
        "# and copy the URL of the desired version linux-x64 tar archive\n",
        "# Then, edit or add the version below and also at the version selection at the top\n",
        "blender_url_dict = {'2.79b'   : \"https://ftp.nluug.nl/pub/graphics/blender/release/Blender2.79/blender-2.79b-linux-glibc219-x86_64.tar.bz2\",\n",
        "                    '2.83.20' : \"https://ftp.nluug.nl/pub/graphics/blender/release/Blender2.83/blender-2.83.20-linux-x64.tar.xz\",\n",
        "                    '2.93.18' : \"https://ftp.nluug.nl/pub/graphics/blender/release/Blender2.93/blender-2.93.18-linux-x64.tar.xz\",\n",
        "                    '3.3.21'  : \"https://ftp.nluug.nl/pub/graphics/blender/release/Blender3.3/blender-3.3.21-linux-x64.tar.xz\",\n",
        "                    '3.6.21'  : \"https://ftp.nluug.nl/pub/graphics/blender/release/Blender3.6/blender-3.6.21-linux-x64.tar.xz\",\n",
        "                    '4.2.7'   : \"https://ftp.nluug.nl/pub/graphics/blender/release/Blender4.2/blender-4.2.7-linux-x64.tar.xz\",\n",
        "                    '4.3.2'   : \"https://ftp.nluug.nl/pub/graphics/blender/release/Blender4.3/blender-4.3.2-linux-x64.tar.xz\",\n",
        "                    '3.5.0'   : \"https://ftp.nluug.nl/pub/graphics/blender/release/Blender3.5/blender-3.5.0-linux-x64.tar.xz\"}\n",
        "\n",
        "blender_url = blender_url_dict[blender_version]\n",
        "base_url = os.path.basename(blender_url)\n",
        "\n",
        "!mkdir $blender_version\n",
        "!wget -nc $blender_url\n",
        "!tar -xkf $base_url -C ./$blender_version --strip-components=1"
      ]
    },
    {
      "cell_type": "code",
      "execution_count": null,
      "metadata": {
        "id": "6elYiQrvkUAe"
      },
      "outputs": [],
      "source": [
        "# Enable GPU rendering (or add custom properties here)\n",
        "data = \"import re\\n\"+\\\n",
        "    \"import bpy\\n\"+\\\n",
        "    \"scene = bpy.context.scene\\n\"+\\\n",
        "    \"scene.cycles.device = 'GPU'\\n\"+\\\n",
        "    \"prefs = bpy.context.preferences\\n\"+\\\n",
        "    \"prefs.addons['cycles'].preferences.get_devices()\\n\"+\\\n",
        "    \"cprefs = prefs.addons['cycles'].preferences\\n\"+\\\n",
        "    \"print(cprefs)\\n\"+\\\n",
        "    \"for compute_device_type in ('CUDA', 'OPENCL', 'NONE'):\\n\"+\\\n",
        "    \"    try:\\n\"+\\\n",
        "    \"        cprefs.compute_device_type = compute_device_type\\n\"+\\\n",
        "    \"        print('Device found:',compute_device_type)\\n\"+\\\n",
        "    \"        break\\n\"+\\\n",
        "    \"    except TypeError:\\n\"+\\\n",
        "    \"        pass\\n\"+\\\n",
        "    \"for device in cprefs.devices:\\n\"+\\\n",
        "    \"    if not re.match('intel', device.name, re.I):\\n\"+\\\n",
        "    \"        print('Activating',device)\\n\"+\\\n",
        "    \"        device.use = \"+str(gpu_enabled)+\"\\n\"+\\\n",
        "    \"    else:\\n\"+\\\n",
        "    \"        device.use = \"+str(cpu_enabled)+\"\\n\"\n",
        "with open('setgpu.py', 'w') as f:\n",
        "    f.write(data)\n",
        "\n",
        "renderer = \"CUDA\"\n",
        "if optix_enabled:\n",
        "    print(\"Note: You're currently using OptiX renderer. If an error occurred, the current GPU (example: Tesla K80) is not supported and you need to switch back to Cycles.\")\n",
        "    renderer = \"OPTIX\""
      ]
    },
    {
      "cell_type": "code",
      "execution_count": null,
      "metadata": {
        "id": "Fpk2w3yM8XqQ"
      },
      "outputs": [],
      "source": [
        "%cd /content\n",
        "\n",
        "# Ensure output directory exists\n",
        "!rm -r output\n",
        "!mkdir output\n",
        "\n",
        "if not drive_output_path.endswith('/'):\n",
        "    drive_output_path += '/'\n",
        "\n",
        "%cd /content/$blender_version\n",
        "\n",
        "if animation:\n",
        "    for frame in range(start_frame, end_frame + 1):\n",
        "        print(f\"Rendering frame {frame}/{end_frame}...\")\n",
        "\n",
        "        # Render the frame using the current frame number\n",
        "        !./$blender_version/blender -b '/content/render/{blend_file_path}' \\\n",
        "        -P setgpu.py -E CYCLES -o '/content/output/frame_####' \\\n",
        "        -noaudio -f {frame} -- --cycles-device \"{renderer}\"\n",
        "\n",
        "        # Upload the completed frame to Google Drive\n",
        "        frame_file = f\"/content/output/frame_{str(frame).zfill(4)}.png\"\n",
        "        if os.path.exists(frame_file):\n",
        "            shutil.copy(frame_file, f'/drive/My Drive/{drive_output_path}')\n",
        "            print(f\"Frame {frame} uploaded to Google Drive.\")\n",
        "        else:\n",
        "            print(f\"Frame {frame} not found. Check for render errors.\")\n",
        "else:\n",
        "    !./$blender_version/blender -b '/content/render/{blend_file_path}' \\\n",
        "    -P setgpu.py -E CYCLES -o '{output_path}' \\\n",
        "    -noaudio -f $start_frame -- --cycles-device \"{renderer}\"\n"
      ]
    },
    {
      "cell_type": "markdown",
      "metadata": {
        "id": "IeNhVz4Uds_7"
      },
      "source": [
        "## Disclaimer\n",
        "Google Colab is targeted to researchers and students to run AI/ML tasks, data analysis and education, not rendering 3D scenes. Because the computing power provided are free, the usage limits, idle timeouts and speed of the rendering may varies time by time. [Colab Pro and Colab Pro+](https://colab.research.google.com/signup) are available for those who wanted to have more powerful GPU and longer runtimes for rendering. See the [FAQ](https://research.google.com/colaboratory/faq.html) for more info. In some cases, it might be faster to use an online Blender renderfarm.\n",
        "\n",
        "## License\n",
        "```\n",
        "MIT License\n",
        "\n",
        "Copyright (c) 2020-2022 ynshung\n",
        "\n",
        "Permission is hereby granted, free of charge, to any person obtaining a copy\n",
        "of this software and associated documentation files (the \"Software\"), to deal\n",
        "in the Software without restriction, including without limitation the rights\n",
        "to use, copy, modify, merge, publish, distribute, sublicense, and/or sell\n",
        "copies of the Software, and to permit persons to whom the Software is\n",
        "furnished to do so, subject to the following conditions:\n",
        "\n",
        "The above copyright notice and this permission notice shall be included in all\n",
        "copies or substantial portions of the Software.\n",
        "\n",
        "THE SOFTWARE IS PROVIDED \"AS IS\", WITHOUT WARRANTY OF ANY KIND, EXPRESS OR\n",
        "IMPLIED, INCLUDING BUT NOT LIMITED TO THE WARRANTIES OF MERCHANTABILITY,\n",
        "FITNESS FOR A PARTICULAR PURPOSE AND NONINFRINGEMENT. IN NO EVENT SHALL THE\n",
        "AUTHORS OR COPYRIGHT HOLDERS BE LIABLE FOR ANY CLAIM, DAMAGES OR OTHER\n",
        "LIABILITY, WHETHER IN AN ACTION OF CONTRACT, TORT OR OTHERWISE, ARISING FROM,\n",
        "OUT OF OR IN CONNECTION WITH THE SOFTWARE OR THE USE OR OTHER DEALINGS IN THE\n",
        "SOFTWARE.\n",
        "```"
      ]
    }
  ],
  "metadata": {
    "accelerator": "GPU",
    "colab": {
      "name": "blender-render.ipynb",
      "provenance": [],
      "gpuType": "T4",
      "include_colab_link": true
    },
    "kernelspec": {
      "display_name": "Python 3",
      "name": "python3"
    },
    "language_info": {
      "codemirror_mode": {
        "name": "ipython",
        "version": 3
      },
      "file_extension": ".py",
      "mimetype": "text/x-python",
      "name": "python",
      "nbconvert_exporter": "python",
      "pygments_lexer": "ipython3",
      "version": "3.7.4"
    }
  },
  "nbformat": 4,
  "nbformat_minor": 0
}